{
  "nbformat": 4,
  "nbformat_minor": 0,
  "metadata": {
    "colab": {
      "provenance": []
    },
    "kernelspec": {
      "name": "python3",
      "display_name": "Python 3"
    },
    "language_info": {
      "name": "python"
    },
    "accelerator": "GPU",
    "gpuClass": "standard"
  },
  "cells": [
    {
      "cell_type": "markdown",
      "source": [
        "Nama : Diggy Bani Nusantara; Kelas : Belajar Machine Learning Untuk Pemula; No. Registrasi : 1494037162101-336; Program : FGA; Model Fruit Image Classification Model Deployment using TF-Lite;"
      ],
      "metadata": {
        "id": "vhBvi5kE4veE"
      }
    },
    {
      "cell_type": "code",
      "execution_count": 2,
      "metadata": {
        "id": "mS3Ug5ok4jU0"
      },
      "outputs": [],
      "source": [
        "#Library\n",
        "import zipfile\n",
        "import os\n",
        "import glob \n",
        "import warnings\n",
        "\n",
        "from tensorflow.keras.preprocessing.image import ImageDataGenerator\n",
        "from tensorflow.keras.models import Sequential\n",
        "from tensorflow.keras.layers import Conv2D, MaxPooling2D, Activation, Dense, Flatten\n",
        "from tensorflow.keras.layers import Dropout\n",
        "from tensorflow.keras.optimizers import Adam\n",
        "import tensorflow as tf\n",
        "\n",
        "from keras.preprocessing import image\n",
        "import keras.utils as image\n",
        "from google.colab import files\n",
        "import numpy as np\n",
        "import matplotlib.pyplot as plt\n",
        "import matplotlib.image as mpimg\n",
        "%matplotlib inline"
      ]
    },
    {
      "cell_type": "code",
      "source": [
        "#Dataset\n",
        "!pip install -q Kaggle\n",
        "\n",
        "uploaded = files.upload()\n",
        "\n",
        "!mkdir -p ~/.kaggle\n",
        "!cp kaggle.json ~/.kaggle/\n",
        "!chmod 600 ~/.kaggle/kaggle.json\n",
        "!kaggle datasets download -d sshikamaru/fruit-recognition"
      ],
      "metadata": {
        "colab": {
          "base_uri": "https://localhost:8080/",
          "height": 130
        },
        "id": "LuHUgwDj5Fdx",
        "outputId": "5300a489-09a6-484f-f837-4e9f174ed158"
      },
      "execution_count": 3,
      "outputs": [
        {
          "output_type": "display_data",
          "data": {
            "text/plain": [
              "<IPython.core.display.HTML object>"
            ],
            "text/html": [
              "\n",
              "     <input type=\"file\" id=\"files-d1838e6a-42bf-482c-8a7f-c3ad3a2f3793\" name=\"files[]\" multiple disabled\n",
              "        style=\"border:none\" />\n",
              "     <output id=\"result-d1838e6a-42bf-482c-8a7f-c3ad3a2f3793\">\n",
              "      Upload widget is only available when the cell has been executed in the\n",
              "      current browser session. Please rerun this cell to enable.\n",
              "      </output>\n",
              "      <script>// Copyright 2017 Google LLC\n",
              "//\n",
              "// Licensed under the Apache License, Version 2.0 (the \"License\");\n",
              "// you may not use this file except in compliance with the License.\n",
              "// You may obtain a copy of the License at\n",
              "//\n",
              "//      http://www.apache.org/licenses/LICENSE-2.0\n",
              "//\n",
              "// Unless required by applicable law or agreed to in writing, software\n",
              "// distributed under the License is distributed on an \"AS IS\" BASIS,\n",
              "// WITHOUT WARRANTIES OR CONDITIONS OF ANY KIND, either express or implied.\n",
              "// See the License for the specific language governing permissions and\n",
              "// limitations under the License.\n",
              "\n",
              "/**\n",
              " * @fileoverview Helpers for google.colab Python module.\n",
              " */\n",
              "(function(scope) {\n",
              "function span(text, styleAttributes = {}) {\n",
              "  const element = document.createElement('span');\n",
              "  element.textContent = text;\n",
              "  for (const key of Object.keys(styleAttributes)) {\n",
              "    element.style[key] = styleAttributes[key];\n",
              "  }\n",
              "  return element;\n",
              "}\n",
              "\n",
              "// Max number of bytes which will be uploaded at a time.\n",
              "const MAX_PAYLOAD_SIZE = 100 * 1024;\n",
              "\n",
              "function _uploadFiles(inputId, outputId) {\n",
              "  const steps = uploadFilesStep(inputId, outputId);\n",
              "  const outputElement = document.getElementById(outputId);\n",
              "  // Cache steps on the outputElement to make it available for the next call\n",
              "  // to uploadFilesContinue from Python.\n",
              "  outputElement.steps = steps;\n",
              "\n",
              "  return _uploadFilesContinue(outputId);\n",
              "}\n",
              "\n",
              "// This is roughly an async generator (not supported in the browser yet),\n",
              "// where there are multiple asynchronous steps and the Python side is going\n",
              "// to poll for completion of each step.\n",
              "// This uses a Promise to block the python side on completion of each step,\n",
              "// then passes the result of the previous step as the input to the next step.\n",
              "function _uploadFilesContinue(outputId) {\n",
              "  const outputElement = document.getElementById(outputId);\n",
              "  const steps = outputElement.steps;\n",
              "\n",
              "  const next = steps.next(outputElement.lastPromiseValue);\n",
              "  return Promise.resolve(next.value.promise).then((value) => {\n",
              "    // Cache the last promise value to make it available to the next\n",
              "    // step of the generator.\n",
              "    outputElement.lastPromiseValue = value;\n",
              "    return next.value.response;\n",
              "  });\n",
              "}\n",
              "\n",
              "/**\n",
              " * Generator function which is called between each async step of the upload\n",
              " * process.\n",
              " * @param {string} inputId Element ID of the input file picker element.\n",
              " * @param {string} outputId Element ID of the output display.\n",
              " * @return {!Iterable<!Object>} Iterable of next steps.\n",
              " */\n",
              "function* uploadFilesStep(inputId, outputId) {\n",
              "  const inputElement = document.getElementById(inputId);\n",
              "  inputElement.disabled = false;\n",
              "\n",
              "  const outputElement = document.getElementById(outputId);\n",
              "  outputElement.innerHTML = '';\n",
              "\n",
              "  const pickedPromise = new Promise((resolve) => {\n",
              "    inputElement.addEventListener('change', (e) => {\n",
              "      resolve(e.target.files);\n",
              "    });\n",
              "  });\n",
              "\n",
              "  const cancel = document.createElement('button');\n",
              "  inputElement.parentElement.appendChild(cancel);\n",
              "  cancel.textContent = 'Cancel upload';\n",
              "  const cancelPromise = new Promise((resolve) => {\n",
              "    cancel.onclick = () => {\n",
              "      resolve(null);\n",
              "    };\n",
              "  });\n",
              "\n",
              "  // Wait for the user to pick the files.\n",
              "  const files = yield {\n",
              "    promise: Promise.race([pickedPromise, cancelPromise]),\n",
              "    response: {\n",
              "      action: 'starting',\n",
              "    }\n",
              "  };\n",
              "\n",
              "  cancel.remove();\n",
              "\n",
              "  // Disable the input element since further picks are not allowed.\n",
              "  inputElement.disabled = true;\n",
              "\n",
              "  if (!files) {\n",
              "    return {\n",
              "      response: {\n",
              "        action: 'complete',\n",
              "      }\n",
              "    };\n",
              "  }\n",
              "\n",
              "  for (const file of files) {\n",
              "    const li = document.createElement('li');\n",
              "    li.append(span(file.name, {fontWeight: 'bold'}));\n",
              "    li.append(span(\n",
              "        `(${file.type || 'n/a'}) - ${file.size} bytes, ` +\n",
              "        `last modified: ${\n",
              "            file.lastModifiedDate ? file.lastModifiedDate.toLocaleDateString() :\n",
              "                                    'n/a'} - `));\n",
              "    const percent = span('0% done');\n",
              "    li.appendChild(percent);\n",
              "\n",
              "    outputElement.appendChild(li);\n",
              "\n",
              "    const fileDataPromise = new Promise((resolve) => {\n",
              "      const reader = new FileReader();\n",
              "      reader.onload = (e) => {\n",
              "        resolve(e.target.result);\n",
              "      };\n",
              "      reader.readAsArrayBuffer(file);\n",
              "    });\n",
              "    // Wait for the data to be ready.\n",
              "    let fileData = yield {\n",
              "      promise: fileDataPromise,\n",
              "      response: {\n",
              "        action: 'continue',\n",
              "      }\n",
              "    };\n",
              "\n",
              "    // Use a chunked sending to avoid message size limits. See b/62115660.\n",
              "    let position = 0;\n",
              "    do {\n",
              "      const length = Math.min(fileData.byteLength - position, MAX_PAYLOAD_SIZE);\n",
              "      const chunk = new Uint8Array(fileData, position, length);\n",
              "      position += length;\n",
              "\n",
              "      const base64 = btoa(String.fromCharCode.apply(null, chunk));\n",
              "      yield {\n",
              "        response: {\n",
              "          action: 'append',\n",
              "          file: file.name,\n",
              "          data: base64,\n",
              "        },\n",
              "      };\n",
              "\n",
              "      let percentDone = fileData.byteLength === 0 ?\n",
              "          100 :\n",
              "          Math.round((position / fileData.byteLength) * 100);\n",
              "      percent.textContent = `${percentDone}% done`;\n",
              "\n",
              "    } while (position < fileData.byteLength);\n",
              "  }\n",
              "\n",
              "  // All done.\n",
              "  yield {\n",
              "    response: {\n",
              "      action: 'complete',\n",
              "    }\n",
              "  };\n",
              "}\n",
              "\n",
              "scope.google = scope.google || {};\n",
              "scope.google.colab = scope.google.colab || {};\n",
              "scope.google.colab._files = {\n",
              "  _uploadFiles,\n",
              "  _uploadFilesContinue,\n",
              "};\n",
              "})(self);\n",
              "</script> "
            ]
          },
          "metadata": {}
        },
        {
          "output_type": "stream",
          "name": "stdout",
          "text": [
            "Saving kaggle.json to kaggle.json\n",
            "Downloading fruit-recognition.zip to /content\n",
            " 89% 91.0M/102M [00:00<00:00, 120MB/s] \n",
            "100% 102M/102M [00:01<00:00, 97.7MB/s]\n"
          ]
        }
      ]
    },
    {
      "cell_type": "code",
      "source": [
        "#Extract\n",
        "extract_zip = 'fruit-recognition.zip'\n",
        "out_zip = zipfile.ZipFile(extract_zip, 'r')\n",
        "out_zip.extractall('/content/datasets')\n",
        "out_zip.close()"
      ],
      "metadata": {
        "id": "wDKHwllN5VrT"
      },
      "execution_count": 4,
      "outputs": []
    },
    {
      "cell_type": "code",
      "source": [
        "#Location\n",
        "dir_dataset = \"/content/datasets/train/train\"\n",
        "dir_mango = os.path.join(\"/content/datasets/train/train/Mango\")\n",
        "dir_orange = os.path.join(\"/content/datasets/train/train/Orange\")\n",
        "dir_pear = os.path.join(\"/content/datasets/train/train/Pear\")"
      ],
      "metadata": {
        "id": "xgYYkjQ25bx8"
      },
      "execution_count": 26,
      "outputs": []
    },
    {
      "cell_type": "code",
      "source": [
        "#Jumlah Data\n",
        "total_image = len(list(glob.iglob(\"/content/datasets/train/train/*/*.*\", recursive=True)))\n",
        "print(\"Total Data Image JPEG     : \",total_image)\n",
        "\n",
        "total_mango = len(os.listdir(dir_mango))\n",
        "total_orange = len(os.listdir(dir_orange))\n",
        "total_pear = len(os.listdir(dir_pear))\n",
        "\n",
        "print(\"Total Data Mango Image    : \",total_mango)\n",
        "print(\"Total Data Orange Image   : \",total_orange)\n",
        "print(\"Total Data Pear Image     : \",total_pear)"
      ],
      "metadata": {
        "colab": {
          "base_uri": "https://localhost:8080/"
        },
        "id": "DZfPhVri5tKG",
        "outputId": "6c79cac4-89f6-4ff9-e62b-66632883e615"
      },
      "execution_count": 27,
      "outputs": [
        {
          "output_type": "stream",
          "name": "stdout",
          "text": [
            "Total Data Image JPEG     :  1665\n",
            "Total Data Mango Image    :  490\n",
            "Total Data Orange Image   :  479\n",
            "Total Data Pear Image     :  696\n"
          ]
        }
      ]
    },
    {
      "cell_type": "code",
      "source": [
        "#Delete Unused Datasets\n",
        "!rm -rf /content/datasets/train/train/'Apple Braeburn'\n",
        "!rm -rf /content/datasets/train/train/'Apple Granny Smith'\n",
        "!rm -rf /content/datasets/train/train/Apricot\n",
        "!rm -rf /content/datasets/train/train/Avocado\n",
        "!rm -rf /content/datasets/train/train/Banana\n",
        "!rm -rf /content/datasets/train/train/Blueberry\n",
        "!rm -rf /content/datasets/train/train/'Cactus fruit'\n",
        "!rm -rf /content/datasets/train/train/Cantaloupe\n",
        "!rm -rf /content/datasets/train/train/Cherry\n",
        "!rm -rf /content/datasets/train/train/Clementine\n",
        "!rm -rf /content/datasets/train/train/Corn\n",
        "!rm -rf /content/datasets/train/train/'Cucumber Ripe'\n",
        "!rm -rf /content/datasets/train/train/'Grape Blue'\n",
        "!rm -rf /content/datasets/train/train/Kiwi\n",
        "!rm -rf /content/datasets/train/train/Lemon\n",
        "!rm -rf /content/datasets/train/train/Limes\n",
        "!rm -rf /content/datasets/train/train/'Onion White'\n",
        "!rm -rf /content/datasets/train/train/Papaya\n",
        "!rm -rf /content/datasets/train/train/'Passion Fruit'\n",
        "!rm -rf /content/datasets/train/train/Peach\n",
        "!rm -rf /content/datasets/train/train/'Pepper Green'\n",
        "!rm -rf /content/datasets/train/train/'Pepper Red'\n",
        "!rm -rf /content/datasets/train/train/Pineapple\n",
        "!rm -rf /content/datasets/train/train/Plum\n",
        "!rm -rf /content/datasets/train/train/Pomegranate\n",
        "!rm -rf /content/datasets/train/train/'Potato Red'\n",
        "!rm -rf /content/datasets/train/train/Raspberry\n",
        "!rm -rf /content/datasets/train/train/Strawberry\n",
        "!rm -rf /content/datasets/train/train/Tomato\n",
        "!rm -rf /content/datasets/train/train/Watermelon\n",
        "!ls /content/datasets/train/train/"
      ],
      "metadata": {
        "id": "705-IsKTmHRw",
        "colab": {
          "base_uri": "https://localhost:8080/"
        },
        "outputId": "339542a0-63dc-4212-e6a9-4c67295ef959"
      },
      "execution_count": 28,
      "outputs": [
        {
          "output_type": "stream",
          "name": "stdout",
          "text": [
            "Mango  Orange  Pear\n"
          ]
        }
      ]
    },
    {
      "cell_type": "code",
      "source": [
        "#Validation 20%\n",
        "val_size = 0.2\n",
        "\n",
        "train_datagen = ImageDataGenerator(\n",
        "    rotation_range = 30,\n",
        "    brightness_range = [0.2,1.0],\n",
        "    shear_range = 0.2,\n",
        "    zoom_range = 0.2,\n",
        "    horizontal_flip = True,\n",
        "    fill_mode = \"nearest\",\n",
        "    rescale = 1./255,\n",
        "    validation_split = val_size\n",
        ")\n",
        "\n",
        "validation_datagen = ImageDataGenerator(\n",
        "    rotation_range = 30,\n",
        "    brightness_range = [0.2,1.0],\n",
        "    shear_range = 0.2,\n",
        "    zoom_range = 0.2,\n",
        "    horizontal_flip = True,\n",
        "    fill_mode = \"nearest\",\n",
        "    rescale = 1./255,\n",
        "    validation_split = val_size\n",
        ")"
      ],
      "metadata": {
        "id": "3s63MhqP5xF8"
      },
      "execution_count": 29,
      "outputs": []
    },
    {
      "cell_type": "code",
      "source": [
        "# Train dan Validation\n",
        "train_generator = train_datagen.flow_from_directory(\n",
        "    dir_dataset,\n",
        "    target_size = (150,150),\n",
        "    color_mode = \"rgb\",\n",
        "    class_mode = \"categorical\",\n",
        "    batch_size = 16,\n",
        "    shuffle = True,\n",
        "    subset = \"training\"\n",
        ")\n",
        "\n",
        "validation_generator = validation_datagen.flow_from_directory(\n",
        "    dir_dataset,\n",
        "    target_size = (150,150),\n",
        "    color_mode = \"rgb\",\n",
        "    class_mode = \"categorical\",\n",
        "    batch_size = 16,\n",
        "    shuffle = False,\n",
        "    subset = \"validation\"\n",
        ")"
      ],
      "metadata": {
        "id": "Cn9klP6B52GS",
        "colab": {
          "base_uri": "https://localhost:8080/"
        },
        "outputId": "77d34b3c-e9fd-40c7-c848-245d45d75171"
      },
      "execution_count": 30,
      "outputs": [
        {
          "output_type": "stream",
          "name": "stdout",
          "text": [
            "Found 1333 images belonging to 3 classes.\n",
            "Found 332 images belonging to 3 classes.\n"
          ]
        }
      ]
    },
    {
      "cell_type": "code",
      "source": [
        "#Model Sequential Using Conv2D dan MaxPooling\n",
        "Model = Sequential(\n",
        "    [\n",
        "     Conv2D(32, (3,3), strides = (1,1), activation = 'relu' , input_shape = (150,150,3)),\n",
        "     MaxPooling2D(pool_size = (2,2), padding = 'valid'),\n",
        "     Conv2D(64, (3,3), strides = (1,1), activation = 'relu' ),\n",
        "     MaxPooling2D(pool_size = (2,2), padding = 'valid'),\n",
        "     Conv2D(128, (3,3), strides = (1,1), activation = 'relu' ),\n",
        "     MaxPooling2D(pool_size = (2,2), padding = 'valid'),\n",
        "     Flatten(),\n",
        "     Dropout(0.2),\n",
        "     Dense(128, activation = 'relu'),\n",
        "     Dense(3, activation='softmax')\n",
        "    ]\n",
        ")"
      ],
      "metadata": {
        "id": "9dIn5g8n577w"
      },
      "execution_count": 35,
      "outputs": []
    },
    {
      "cell_type": "code",
      "source": [
        "#Optimizer\n",
        "Adam(learning_rate=0.00128, name='adam')\n",
        "Model.compile(optimizer = 'adam',loss = 'categorical_crossentropy',metrics = ['accuracy'])"
      ],
      "metadata": {
        "id": "KJxOwRVl5-Aj"
      },
      "execution_count": 36,
      "outputs": []
    },
    {
      "cell_type": "code",
      "source": [
        "def scheduler(epoch, lr):\n",
        "  if epoch < 5:\n",
        "    return lr\n",
        "  else:\n",
        "    return lr * tf.math.exp(-0.1)\n",
        "\n",
        "#Callback\n",
        "lr_schedule = tf.keras.callbacks.LearningRateScheduler(scheduler, verbose=1)\n",
        "tb_callback = tf.keras.callbacks.TensorBoard(\n",
        "    log_dir='logs', histogram_freq=0, write_graph=True, write_images=False,\n",
        "    update_freq='epoch', embeddings_freq=0,\n",
        "    embeddings_metadata=None\n",
        ")\n",
        "\n",
        "Model.summary()"
      ],
      "metadata": {
        "id": "WB17ZzGu5_-R",
        "colab": {
          "base_uri": "https://localhost:8080/"
        },
        "outputId": "064d89b4-3fe1-498e-ba1c-3eb56da46519"
      },
      "execution_count": 37,
      "outputs": [
        {
          "output_type": "stream",
          "name": "stdout",
          "text": [
            "Model: \"sequential_3\"\n",
            "_________________________________________________________________\n",
            " Layer (type)                Output Shape              Param #   \n",
            "=================================================================\n",
            " conv2d_9 (Conv2D)           (None, 148, 148, 32)      896       \n",
            "                                                                 \n",
            " max_pooling2d_9 (MaxPooling  (None, 74, 74, 32)       0         \n",
            " 2D)                                                             \n",
            "                                                                 \n",
            " conv2d_10 (Conv2D)          (None, 72, 72, 64)        18496     \n",
            "                                                                 \n",
            " max_pooling2d_10 (MaxPoolin  (None, 36, 36, 64)       0         \n",
            " g2D)                                                            \n",
            "                                                                 \n",
            " conv2d_11 (Conv2D)          (None, 34, 34, 128)       73856     \n",
            "                                                                 \n",
            " max_pooling2d_11 (MaxPoolin  (None, 17, 17, 128)      0         \n",
            " g2D)                                                            \n",
            "                                                                 \n",
            " flatten_3 (Flatten)         (None, 36992)             0         \n",
            "                                                                 \n",
            " dropout_3 (Dropout)         (None, 36992)             0         \n",
            "                                                                 \n",
            " dense_6 (Dense)             (None, 128)               4735104   \n",
            "                                                                 \n",
            " dense_7 (Dense)             (None, 3)                 387       \n",
            "                                                                 \n",
            "=================================================================\n",
            "Total params: 4,828,739\n",
            "Trainable params: 4,828,739\n",
            "Non-trainable params: 0\n",
            "_________________________________________________________________\n"
          ]
        }
      ]
    },
    {
      "cell_type": "code",
      "source": [
        "#Training\n",
        "batch_size = 16\n",
        "history = Model.fit(train_generator, \n",
        "                  epochs =  10, \n",
        "                  steps_per_epoch = 1333//batch_size,\n",
        "                  validation_data = validation_generator, \n",
        "                  verbose = 1, \n",
        "                  validation_steps = 332//batch_size,\n",
        "                  callbacks =[lr_schedule, tb_callback])"
      ],
      "metadata": {
        "id": "vodng6c66CYM",
        "colab": {
          "base_uri": "https://localhost:8080/"
        },
        "outputId": "3fbb03f6-828a-4633-f81b-13596c75edb6"
      },
      "execution_count": 38,
      "outputs": [
        {
          "output_type": "stream",
          "name": "stdout",
          "text": [
            "\n",
            "Epoch 1: LearningRateScheduler setting learning rate to 0.0010000000474974513.\n",
            "Epoch 1/10\n",
            "83/83 [==============================] - 66s 783ms/step - loss: 0.1982 - accuracy: 0.9377 - val_loss: 0.0076 - val_accuracy: 0.9937 - lr: 0.0010\n",
            "\n",
            "Epoch 2: LearningRateScheduler setting learning rate to 0.0010000000474974513.\n",
            "Epoch 2/10\n",
            "83/83 [==============================] - 66s 794ms/step - loss: 0.0101 - accuracy: 0.9985 - val_loss: 0.0024 - val_accuracy: 1.0000 - lr: 0.0010\n",
            "\n",
            "Epoch 3: LearningRateScheduler setting learning rate to 0.0010000000474974513.\n",
            "Epoch 3/10\n",
            "83/83 [==============================] - 65s 781ms/step - loss: 7.0878e-04 - accuracy: 1.0000 - val_loss: 1.0661e-04 - val_accuracy: 1.0000 - lr: 0.0010\n",
            "\n",
            "Epoch 4: LearningRateScheduler setting learning rate to 0.0010000000474974513.\n",
            "Epoch 4/10\n",
            "83/83 [==============================] - 65s 778ms/step - loss: 0.1082 - accuracy: 0.9752 - val_loss: 0.0040 - val_accuracy: 1.0000 - lr: 0.0010\n",
            "\n",
            "Epoch 5: LearningRateScheduler setting learning rate to 0.0010000000474974513.\n",
            "Epoch 5/10\n",
            "83/83 [==============================] - 67s 804ms/step - loss: 0.0285 - accuracy: 0.9894 - val_loss: 2.8069e-04 - val_accuracy: 1.0000 - lr: 0.0010\n",
            "\n",
            "Epoch 6: LearningRateScheduler setting learning rate to 0.0009048374486155808.\n",
            "Epoch 6/10\n",
            "83/83 [==============================] - 64s 774ms/step - loss: 9.2004e-04 - accuracy: 1.0000 - val_loss: 7.3507e-04 - val_accuracy: 1.0000 - lr: 9.0484e-04\n",
            "\n",
            "Epoch 7: LearningRateScheduler setting learning rate to 0.0008187307976186275.\n",
            "Epoch 7/10\n",
            "83/83 [==============================] - 69s 835ms/step - loss: 0.0276 - accuracy: 0.9939 - val_loss: 0.0882 - val_accuracy: 0.9656 - lr: 8.1873e-04\n",
            "\n",
            "Epoch 8: LearningRateScheduler setting learning rate to 0.0007408182718791068.\n",
            "Epoch 8/10\n",
            "83/83 [==============================] - 64s 773ms/step - loss: 0.0347 - accuracy: 0.9886 - val_loss: 0.0076 - val_accuracy: 0.9969 - lr: 7.4082e-04\n",
            "\n",
            "Epoch 9: LearningRateScheduler setting learning rate to 0.0006703201215714216.\n",
            "Epoch 9/10\n",
            "83/83 [==============================] - 66s 800ms/step - loss: 3.4798e-04 - accuracy: 1.0000 - val_loss: 3.4332e-04 - val_accuracy: 1.0000 - lr: 6.7032e-04\n",
            "\n",
            "Epoch 10: LearningRateScheduler setting learning rate to 0.0006065307534299791.\n",
            "Epoch 10/10\n",
            "83/83 [==============================] - 64s 775ms/step - loss: 5.7761e-04 - accuracy: 1.0000 - val_loss: 4.3133e-04 - val_accuracy: 1.0000 - lr: 6.0653e-04\n"
          ]
        }
      ]
    },
    {
      "cell_type": "code",
      "source": [
        "#Accuracy \n",
        "acc = history.history['accuracy']\n",
        "val_acc = history.history['val_accuracy']\n",
        "#Loss \n",
        "loss = history.history['loss']\n",
        "val_loss = history.history['val_loss']\n",
        "\n",
        "epochs = range(len(acc))\n",
        "\n",
        "#Plot Accruracy\n",
        "plt.plot(epochs, acc, 'r', label='Train Accuracy')\n",
        "plt.plot(epochs, val_acc, 'g', label='Validation Accuracy')\n",
        "plt.title('Training and Validation Accuracy')\n",
        "plt.legend(loc=0)\n",
        "plt.figure()\n",
        "plt.show()\n",
        "\n",
        "#Plot Loss\n",
        "plt.plot(epochs, loss, 'r', label='Train Loss')\n",
        "plt.plot(epochs, val_loss, 'g', label='Validation Loss')\n",
        "plt.title('Training and Validation Loss')\n",
        "plt.legend(loc=0)\n",
        "plt.figure()\n",
        "plt.show()"
      ],
      "metadata": {
        "id": "tEuBW4Py6GCD",
        "colab": {
          "base_uri": "https://localhost:8080/",
          "height": 582
        },
        "outputId": "f8ef9aee-e821-40b0-e439-78cbd6c29dd6"
      },
      "execution_count": 39,
      "outputs": [
        {
          "output_type": "display_data",
          "data": {
            "text/plain": [
              "<Figure size 432x288 with 1 Axes>"
            ],
            "image/png": "[encoded data removed]"
          },
          "metadata": {
            "needs_background": "light"
          }
        },
        {
          "output_type": "display_data",
          "data": {
            "text/plain": [
              "<Figure size 432x288 with 0 Axes>"
            ]
          },
          "metadata": {}
        },
        {
          "output_type": "display_data",
          "data": {
            "text/plain": [
              "<Figure size 432x288 with 1 Axes>"
            ],
            "image/png": "[encoded data removed]"
          },
          "metadata": {
            "needs_background": "light"
          }
        },
        {
          "output_type": "display_data",
          "data": {
            "text/plain": [
              "<Figure size 432x288 with 0 Axes>"
            ]
          },
          "metadata": {}
        }
      ]
    },
    {
      "cell_type": "code",
      "source": [
        "#Upload File\n",
        "uploaded = files.upload()\n",
        "\n",
        "#Condition\n",
        "for file_upload in uploaded.keys():\n",
        "\n",
        "  path = file_upload\n",
        "  img = image.load_img(path, target_size=(150,150))\n",
        "  imgplot = plt.imshow(img)\n",
        "  x = image.img_to_array(img)\n",
        "  x = np.expand_dims(x, axis=0)\n",
        "\n",
        "  images = np.vstack([x])\n",
        "  classes = Model.predict(images, batch_size=16)\n",
        "\n",
        "  if classes[0][0] == 1:\n",
        "    print('Buah Mangga')\n",
        "  elif classes[0][1] == 1:\n",
        "    print('Buah Jeruk')\n",
        "  else:\n",
        "    print('Buah Pir')"
      ],
      "metadata": {
        "id": "YsJu93I76IVg",
        "colab": {
          "base_uri": "https://localhost:8080/",
          "height": 363
        },
        "outputId": "3ace126c-763e-4a8b-a458-9c83c854b7ed"
      },
      "execution_count": 45,
      "outputs": [
        {
          "output_type": "display_data",
          "data": {
            "text/plain": [
              "<IPython.core.display.HTML object>"
            ],
            "text/html": [
              "\n",
              "     <input type=\"file\" id=\"files-018c8e6d-d146-4be0-8f69-d74b93b06670\" name=\"files[]\" multiple disabled\n",
              "        style=\"border:none\" />\n",
              "     <output id=\"result-018c8e6d-d146-4be0-8f69-d74b93b06670\">\n",
              "      Upload widget is only available when the cell has been executed in the\n",
              "      current browser session. Please rerun this cell to enable.\n",
              "      </output>\n",
              "      <script>// Copyright 2017 Google LLC\n",
              "//\n",
              "// Licensed under the Apache License, Version 2.0 (the \"License\");\n",
              "// you may not use this file except in compliance with the License.\n",
              "// You may obtain a copy of the License at\n",
              "//\n",
              "//      http://www.apache.org/licenses/LICENSE-2.0\n",
              "//\n",
              "// Unless required by applicable law or agreed to in writing, software\n",
              "// distributed under the License is distributed on an \"AS IS\" BASIS,\n",
              "// WITHOUT WARRANTIES OR CONDITIONS OF ANY KIND, either express or implied.\n",
              "// See the License for the specific language governing permissions and\n",
              "// limitations under the License.\n",
              "\n",
              "/**\n",
              " * @fileoverview Helpers for google.colab Python module.\n",
              " */\n",
              "(function(scope) {\n",
              "function span(text, styleAttributes = {}) {\n",
              "  const element = document.createElement('span');\n",
              "  element.textContent = text;\n",
              "  for (const key of Object.keys(styleAttributes)) {\n",
              "    element.style[key] = styleAttributes[key];\n",
              "  }\n",
              "  return element;\n",
              "}\n",
              "\n",
              "// Max number of bytes which will be uploaded at a time.\n",
              "const MAX_PAYLOAD_SIZE = 100 * 1024;\n",
              "\n",
              "function _uploadFiles(inputId, outputId) {\n",
              "  const steps = uploadFilesStep(inputId, outputId);\n",
              "  const outputElement = document.getElementById(outputId);\n",
              "  // Cache steps on the outputElement to make it available for the next call\n",
              "  // to uploadFilesContinue from Python.\n",
              "  outputElement.steps = steps;\n",
              "\n",
              "  return _uploadFilesContinue(outputId);\n",
              "}\n",
              "\n",
              "// This is roughly an async generator (not supported in the browser yet),\n",
              "// where there are multiple asynchronous steps and the Python side is going\n",
              "// to poll for completion of each step.\n",
              "// This uses a Promise to block the python side on completion of each step,\n",
              "// then passes the result of the previous step as the input to the next step.\n",
              "function _uploadFilesContinue(outputId) {\n",
              "  const outputElement = document.getElementById(outputId);\n",
              "  const steps = outputElement.steps;\n",
              "\n",
              "  const next = steps.next(outputElement.lastPromiseValue);\n",
              "  return Promise.resolve(next.value.promise).then((value) => {\n",
              "    // Cache the last promise value to make it available to the next\n",
              "    // step of the generator.\n",
              "    outputElement.lastPromiseValue = value;\n",
              "    return next.value.response;\n",
              "  });\n",
              "}\n",
              "\n",
              "/**\n",
              " * Generator function which is called between each async step of the upload\n",
              " * process.\n",
              " * @param {string} inputId Element ID of the input file picker element.\n",
              " * @param {string} outputId Element ID of the output display.\n",
              " * @return {!Iterable<!Object>} Iterable of next steps.\n",
              " */\n",
              "function* uploadFilesStep(inputId, outputId) {\n",
              "  const inputElement = document.getElementById(inputId);\n",
              "  inputElement.disabled = false;\n",
              "\n",
              "  const outputElement = document.getElementById(outputId);\n",
              "  outputElement.innerHTML = '';\n",
              "\n",
              "  const pickedPromise = new Promise((resolve) => {\n",
              "    inputElement.addEventListener('change', (e) => {\n",
              "      resolve(e.target.files);\n",
              "    });\n",
              "  });\n",
              "\n",
              "  const cancel = document.createElement('button');\n",
              "  inputElement.parentElement.appendChild(cancel);\n",
              "  cancel.textContent = 'Cancel upload';\n",
              "  const cancelPromise = new Promise((resolve) => {\n",
              "    cancel.onclick = () => {\n",
              "      resolve(null);\n",
              "    };\n",
              "  });\n",
              "\n",
              "  // Wait for the user to pick the files.\n",
              "  const files = yield {\n",
              "    promise: Promise.race([pickedPromise, cancelPromise]),\n",
              "    response: {\n",
              "      action: 'starting',\n",
              "    }\n",
              "  };\n",
              "\n",
              "  cancel.remove();\n",
              "\n",
              "  // Disable the input element since further picks are not allowed.\n",
              "  inputElement.disabled = true;\n",
              "\n",
              "  if (!files) {\n",
              "    return {\n",
              "      response: {\n",
              "        action: 'complete',\n",
              "      }\n",
              "    };\n",
              "  }\n",
              "\n",
              "  for (const file of files) {\n",
              "    const li = document.createElement('li');\n",
              "    li.append(span(file.name, {fontWeight: 'bold'}));\n",
              "    li.append(span(\n",
              "        `(${file.type || 'n/a'}) - ${file.size} bytes, ` +\n",
              "        `last modified: ${\n",
              "            file.lastModifiedDate ? file.lastModifiedDate.toLocaleDateString() :\n",
              "                                    'n/a'} - `));\n",
              "    const percent = span('0% done');\n",
              "    li.appendChild(percent);\n",
              "\n",
              "    outputElement.appendChild(li);\n",
              "\n",
              "    const fileDataPromise = new Promise((resolve) => {\n",
              "      const reader = new FileReader();\n",
              "      reader.onload = (e) => {\n",
              "        resolve(e.target.result);\n",
              "      };\n",
              "      reader.readAsArrayBuffer(file);\n",
              "    });\n",
              "    // Wait for the data to be ready.\n",
              "    let fileData = yield {\n",
              "      promise: fileDataPromise,\n",
              "      response: {\n",
              "        action: 'continue',\n",
              "      }\n",
              "    };\n",
              "\n",
              "    // Use a chunked sending to avoid message size limits. See b/62115660.\n",
              "    let position = 0;\n",
              "    do {\n",
              "      const length = Math.min(fileData.byteLength - position, MAX_PAYLOAD_SIZE);\n",
              "      const chunk = new Uint8Array(fileData, position, length);\n",
              "      position += length;\n",
              "\n",
              "      const base64 = btoa(String.fromCharCode.apply(null, chunk));\n",
              "      yield {\n",
              "        response: {\n",
              "          action: 'append',\n",
              "          file: file.name,\n",
              "          data: base64,\n",
              "        },\n",
              "      };\n",
              "\n",
              "      let percentDone = fileData.byteLength === 0 ?\n",
              "          100 :\n",
              "          Math.round((position / fileData.byteLength) * 100);\n",
              "      percent.textContent = `${percentDone}% done`;\n",
              "\n",
              "    } while (position < fileData.byteLength);\n",
              "  }\n",
              "\n",
              "  // All done.\n",
              "  yield {\n",
              "    response: {\n",
              "      action: 'complete',\n",
              "    }\n",
              "  };\n",
              "}\n",
              "\n",
              "scope.google = scope.google || {};\n",
              "scope.google.colab = scope.google.colab || {};\n",
              "scope.google.colab._files = {\n",
              "  _uploadFiles,\n",
              "  _uploadFilesContinue,\n",
              "};\n",
              "})(self);\n",
              "</script> "
            ]
          },
          "metadata": {}
        },
        {
          "output_type": "stream",
          "name": "stdout",
          "text": [
            "Saving 0500.jpg to 0500.jpg\n",
            "1/1 [==============================] - 0s 33ms/step\n",
            "Buah Jeruk\n"
          ]
        },
        {
          "output_type": "display_data",
          "data": {
            "text/plain": [
              "<Figure size 432x288 with 1 Axes>"
            ],
            "image/png": "[encoded data removed]"
          },
          "metadata": {
            "needs_background": "light"
          }
        }
      ]
    },
    {
      "cell_type": "code",
      "source": [
        "#Ignore Warnings\n",
        "warnings.filterwarnings('ignore')\n",
        "\n",
        "#Convert Model to TF-Lite\n",
        "converter = tf.lite.TFLiteConverter.from_keras_model(Model)\n",
        "tflite_model = converter.convert()\n",
        "\n",
        "#Save Model TF-Lite\n",
        "with open('fruit_model.tflite', 'wb') as f:\n",
        "  f.write(tflite_model)"
      ],
      "metadata": {
        "id": "v1cKIxRH6LLQ",
        "colab": {
          "base_uri": "https://localhost:8080/"
        },
        "outputId": "e93c342b-6b2b-4050-d977-76f69cceeaab"
      },
      "execution_count": 46,
      "outputs": [
        {
          "output_type": "stream",
          "name": "stderr",
          "text": [
            "WARNING:absl:Found untraced functions such as _jit_compiled_convolution_op, _jit_compiled_convolution_op, _jit_compiled_convolution_op while saving (showing 3 of 3). These functions will not be directly callable after loading.\n"
          ]
        }
      ]
    }
  ]
}